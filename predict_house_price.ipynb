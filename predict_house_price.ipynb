{
 "cells": [
  {
   "cell_type": "code",
   "execution_count": 4,
   "id": "997477a6-a589-4f81-badc-341be79251fa",
   "metadata": {},
   "outputs": [
    {
     "name": "stdout",
     "output_type": "stream",
     "text": [
      "Sample Data:\n",
      "    square_feet  bedrooms  bathrooms   price\n",
      "0         1500         3          2  250000\n",
      "1         1800         4          2  320000\n",
      "2         2400         4          3  450000\n",
      "3         3000         5          3  600000\n",
      "4         3500         5          4  720000 \n",
      "\n",
      "📊 Model Evaluation\n",
      "Mean Squared Error: 1160449473.9066644\n",
      "R² Score: 0.9798533077446759 \n",
      "\n",
      "📌 Model Parameters\n",
      "Intercept: -157773.10924371413\n",
      "Coefficients: {'square_feet': np.float64(150.420168067234), 'bedrooms': np.float64(52857.14285714289), 'bathrooms': np.float64(14075.630252100851)} \n",
      "\n",
      "Regression Equation: Price = -157773.11 + (150.42 * square_feet) + (52857.14 * bedrooms) + (14075.63 * bathrooms) \n",
      "\n",
      "🏠 Predicted Price for 2000 sq ft, 3BHK, 2 Bath: 329789.9159663842\n"
     ]
    },
    {
     "name": "stderr",
     "output_type": "stream",
     "text": [
      "C:\\ProgramData\\anaconda3\\Lib\\site-packages\\sklearn\\utils\\validation.py:2739: UserWarning: X does not have valid feature names, but LinearRegression was fitted with feature names\n",
      "  warnings.warn(\n"
     ]
    }
   ],
   "source": [
    "# Import libraries\n",
    "import pandas as pd\n",
    "import numpy as np\n",
    "from sklearn.model_selection import train_test_split\n",
    "from sklearn.linear_model import LinearRegression\n",
    "from sklearn.metrics import mean_squared_error, r2_score\n",
    "\n",
    "# Create dataset directly inside the program\n",
    "data = pd.DataFrame({\n",
    "    \"square_feet\": [1500, 1800, 2400, 3000, 3500, 1200, 2000, 2800, 4000, 2200],\n",
    "    \"bedrooms\":    [3, 4, 4, 5, 5, 2, 3, 4, 5, 3],\n",
    "    \"bathrooms\":   [2, 2, 3, 3, 4, 1, 2, 3, 4, 2],\n",
    "    \"price\":       [250000, 320000, 450000, 600000, 720000, 180000, 300000, 500000, 800000, 350000]\n",
    "})\n",
    "\n",
    "# Show first few rows\n",
    "print(\"Sample Data:\\n\", data.head(), \"\\n\")\n",
    "\n",
    "# Features (Independent variables)\n",
    "X = data[[\"square_feet\", \"bedrooms\", \"bathrooms\"]]\n",
    "\n",
    "# Target (Dependent variable)\n",
    "y = data[\"price\"]\n",
    "\n",
    "# Split dataset into training and testing sets\n",
    "X_train, X_test, y_train, y_test = train_test_split(\n",
    "    X, y, test_size=0.2, random_state=42\n",
    ")\n",
    "\n",
    "# Initialize Linear Regression model\n",
    "model = LinearRegression()\n",
    "\n",
    "# Train the model\n",
    "model.fit(X_train, y_train)\n",
    "\n",
    "# Make predictions\n",
    "y_pred = model.predict(X_test)\n",
    "\n",
    "# Evaluate the model\n",
    "print(\"📊 Model Evaluation\")\n",
    "print(\"Mean Squared Error:\", mean_squared_error(y_test, y_pred))\n",
    "print(\"R² Score:\", r2_score(y_test, y_pred), \"\\n\")\n",
    "\n",
    "# Show coefficients\n",
    "print(\"📌 Model Parameters\")\n",
    "print(\"Intercept:\", model.intercept_)\n",
    "print(\"Coefficients:\", dict(zip(X.columns, model.coef_)), \"\\n\")\n",
    "\n",
    "# Print regression equation\n",
    "equation = f\"Price = {model.intercept_:.2f}\"\n",
    "for feature, coef in zip(X.columns, model.coef_):\n",
    "    equation += f\" + ({coef:.2f} * {feature})\"\n",
    "print(\"Regression Equation:\", equation, \"\\n\")\n",
    "\n",
    "# Example prediction\n",
    "example = np.array([2000, 3, 2]).reshape(1, -1)  # ensure 2D input\n",
    "predicted_price = model.predict(example)\n",
    "print(\"🏠 Predicted Price for 2000 sq ft, 3BHK, 2 Bath:\", predicted_price[0])\n"
   ]
  },
  {
   "cell_type": "code",
   "execution_count": null,
   "id": "9c2ca8c2-f314-435c-8167-d1258845d05c",
   "metadata": {},
   "outputs": [],
   "source": []
  }
 ],
 "metadata": {
  "kernelspec": {
   "display_name": "Python 3 (ipykernel)",
   "language": "python",
   "name": "python3"
  },
  "language_info": {
   "codemirror_mode": {
    "name": "ipython",
    "version": 3
   },
   "file_extension": ".py",
   "mimetype": "text/x-python",
   "name": "python",
   "nbconvert_exporter": "python",
   "pygments_lexer": "ipython3",
   "version": "3.13.5"
  }
 },
 "nbformat": 4,
 "nbformat_minor": 5
}
